{
 "cells": [
  {
   "cell_type": "code",
   "execution_count": 0,
   "metadata": {
    "application/vnd.databricks.v1+cell": {
     "cellMetadata": {
      "byteLimit": 2048000,
      "rowLimit": 10000
     },
     "inputWidgets": {},
     "nuid": "acc15d9e-9f91-4c28-a172-7e9716e42dcf",
     "showTitle": false,
     "title": ""
    }
   },
   "outputs": [],
   "source": [
    "%run \"./reader_factory\""
   ]
  },
  {
   "cell_type": "code",
   "execution_count": 0,
   "metadata": {
    "application/vnd.databricks.v1+cell": {
     "cellMetadata": {
      "byteLimit": 2048000,
      "rowLimit": 10000
     },
     "inputWidgets": {},
     "nuid": "4a1d6633-c103-4ce9-af88-4b6a05c3539b",
     "showTitle": false,
     "title": ""
    }
   },
   "outputs": [],
   "source": [
    "class Extractor:\n",
    "    \"\"\"\n",
    "    Abstract class\n",
    "    \"\"\"\n",
    "    def __init__(self):\n",
    "        pass\n",
    "\n",
    "    def extract(self):\n",
    "        pass\n",
    "\n",
    "class AirpodsAfterIphoneExtractor:\n",
    "\n",
    "    def extract(self):\n",
    "        \"\"\"\n",
    "        Implement the steps for extracting or reading the data\n",
    "        \"\"\"\n",
    "\n",
    "        transactionInputDF = get_data_source(\n",
    "            data_type = \"csv\",\n",
    "            file_path = \"dbfs:/FileStore/tables/Transaction_Updated.csv\"\n",
    "        ).get_data_frame()\n",
    "\n",
    "        print(\"Transaction DataFrame:\")\n",
    "        transactionInputDF.show()\n",
    "\n",
    "        customerInputDF = get_data_source(\n",
    "            data_type = \"delta\",\n",
    "            file_path = \"default.customer_delta_table\"\n",
    "        ).get_data_frame()\n",
    "\n",
    "        print(\"Customers DataFrame:\")\n",
    "        customerInputDF.show()\n",
    "\n",
    "        inputDFs = {\n",
    "            \"transactionInputDF\": transactionInputDF,\n",
    "            \"customerInputDF\": customerInputDF\n",
    "        }\n",
    "\n",
    "        return inputDFs"
   ]
  }
 ],
 "metadata": {
  "application/vnd.databricks.v1+notebook": {
   "dashboards": [],
   "environmentMetadata": null,
   "language": "python",
   "notebookMetadata": {
    "pythonIndentUnit": 4
   },
   "notebookName": "extractor",
   "widgets": {}
  }
 },
 "nbformat": 4,
 "nbformat_minor": 0
}
