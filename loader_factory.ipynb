{
 "cells": [
  {
   "cell_type": "code",
   "execution_count": 0,
   "metadata": {
    "application/vnd.databricks.v1+cell": {
     "cellMetadata": {
      "byteLimit": 2048000,
      "rowLimit": 10000
     },
     "inputWidgets": {},
     "nuid": "7dededff-43e1-49e7-b4ec-6ba1619b3713",
     "showTitle": false,
     "title": ""
    }
   },
   "outputs": [],
   "source": [
    "class DataSink:\n",
    "    def __init__(self):\n",
    "        \"\"\"\n",
    "        Abstract class\n",
    "        \"\"\"\n",
    "\n",
    "    def __init__(self, df, path, method, params):\n",
    "        self.df = df\n",
    "        self.path = path\n",
    "        self.method = method\n",
    "        self.params = params\n",
    "\n",
    "    def load_data_frame(self):\n",
    "        \"\"\"\n",
    "        Abstract method, functions will be defined in sub classes\n",
    "        \"\"\"\n",
    "        raise ValueError(\"Not Implemented\")\n",
    "\n",
    "class LoadToDBFS(DataSink):\n",
    "    def load_data_frame(self):\n",
    "\n",
    "        self.df.write.mode(self.method).save(self.path)\n",
    "\n",
    "class LoadToDBFSWithPartition(DataSink):\n",
    "    def load_data_frame(self):\n",
    "\n",
    "        partitionByColumn = self.params.get(\"partitionByColumns\")\n",
    "        self.df.write.mode(self.method).partitionBy(partitionByColumn).save(self.path)\n",
    "\n",
    "class LoadToDeltaTable(DataSink):\n",
    "    def load_data_frame(self): \n",
    "\n",
    "        self.df.write.format(\"delta\").mode(self.method).partitionBy(\"location\").saveAsTable(self.path)\n",
    "\n",
    "def get_sink_source(sink_type, df, path, method, params=None):\n",
    "    if sink_type == \"dbfs\":\n",
    "        return LoadToDBFS(df, path, method, params)\n",
    "    elif sink_type == \"dbfs_with_partition\":\n",
    "        return LoadToDBFSWithPartition(df, path, method, params)\n",
    "    elif sink_type == \"delta\":\n",
    "        return LoadToDeltaTable(df, path, method, params)\n",
    "    else:\n",
    "        return ValueError(f\"Not implemented for data type: {sink_type}\") "
   ]
  }
 ],
 "metadata": {
  "application/vnd.databricks.v1+notebook": {
   "dashboards": [],
   "environmentMetadata": null,
   "language": "python",
   "notebookMetadata": {
    "pythonIndentUnit": 4
   },
   "notebookName": "loader_factory",
   "widgets": {}
  }
 },
 "nbformat": 4,
 "nbformat_minor": 0
}
