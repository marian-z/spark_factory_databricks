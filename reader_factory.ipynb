{
 "cells": [
  {
   "cell_type": "code",
   "execution_count": 0,
   "metadata": {
    "application/vnd.databricks.v1+cell": {
     "cellMetadata": {
      "byteLimit": 2048000,
      "rowLimit": 10000
     },
     "inputWidgets": {},
     "nuid": "be0dd469-7ec8-4944-bd1b-371d8aed0f30",
     "showTitle": false,
     "title": ""
    }
   },
   "outputs": [],
   "source": [
    "class DataSource:\n",
    "    \"\"\"\n",
    "    Abstract class\n",
    "    \"\"\"\n",
    "\n",
    "    def __init__(self, path):\n",
    "        self.path = path\n",
    "\n",
    "    def get_data_frame(self):\n",
    "        \"\"\"\n",
    "        Abstract method, functions will be defined in sub classes\n",
    "        \"\"\"\n",
    "        raise ValueError(\"Not Implemented\")\n",
    "\n",
    "class CSVDataSource(DataSource):\n",
    "\n",
    "    def get_data_frame(self):\n",
    "\n",
    "        return (\n",
    "            spark.\n",
    "            read.\n",
    "            format(\"csv\").\n",
    "            option(\"header\", \"true\").\n",
    "            load(self.path)\n",
    "        )\n",
    "\n",
    "class ParquetDataSource(DataSource):\n",
    "    \n",
    "    def get_data_frame(self):\n",
    "\n",
    "        return (\n",
    "            spark.\n",
    "            read.\n",
    "            format(\"parquet\").\n",
    "            load(self.path)\n",
    "        )\n",
    "\n",
    "class ORCDataSource(DataSource):\n",
    "    \n",
    "    def get_data_frame(self):\n",
    "\n",
    "        return (\n",
    "            spark.\n",
    "            read.\n",
    "            format(\"orc\").\n",
    "            load(self.path)\n",
    "        )\n",
    "\n",
    "class DeltaDataSource(DataSource):\n",
    "    \n",
    "    def get_data_frame(self):\n",
    "\n",
    "        table_name = self.path\n",
    "\n",
    "        return (\n",
    "            spark.\n",
    "            read.\n",
    "            format(\"delta\").\n",
    "            table(self.path)\n",
    "        )\n",
    "\n",
    "def get_data_source(data_type, file_path):\n",
    "    if data_type == \"csv\":\n",
    "        return CSVDataSource(file_path)\n",
    "    elif data_type == \"parquet\":\n",
    "        return ParquetDataSource(file_path)\n",
    "    elif data_type == \"delta\":\n",
    "        return DeltaDataSource(file_path)\n",
    "    elif data_type == \"orc\":\n",
    "        return OrcDataSource(file_path)\n",
    "    else:\n",
    "        raise ValueError(f\"Not implemented for data_type: {data_type}\")\n"
   ]
  }
 ],
 "metadata": {
  "application/vnd.databricks.v1+notebook": {
   "dashboards": [],
   "environmentMetadata": null,
   "language": "python",
   "notebookMetadata": {
    "pythonIndentUnit": 4
   },
   "notebookName": "reader_factory",
   "widgets": {}
  }
 },
 "nbformat": 4,
 "nbformat_minor": 0
}
